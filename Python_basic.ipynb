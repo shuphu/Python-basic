{
  "nbformat": 4,
  "nbformat_minor": 0,
  "metadata": {
    "colab": {
      "private_outputs": true,
      "provenance": [],
      "toc_visible": true
    },
    "kernelspec": {
      "name": "python3",
      "display_name": "Python 3"
    },
    "language_info": {
      "name": "python"
    }
  },
  "cells": [
    {
      "cell_type": "code",
      "execution_count": null,
      "metadata": {
        "id": "AvFYjq3lo70S"
      },
      "outputs": [],
      "source": [
        "# Q1.What is python and why it is popular?\n",
        "\n",
        "\"\"\" Ans: Python is a programming language which is help to commnuciate with computer. It is simple and reliable language.\n",
        "There are some reasons that are popular\n",
        "1.Easy to Learn and Read\n",
        "2.Versatile and Flexible\n",
        "3.Large Community and Support\n",
        "4.Rich Libraries and Frameworks \"\"\"\n",
        "\n",
        "# Q2.What is an interpreter in Python?\n",
        "\"\"\" Ans: Python interpreter is a program that read and excutes python code.\n",
        "When we run python program the interpeter read the code line by line and executes.\n",
        "When we create a python file with .py extension\"\"\"\n",
        "\n",
        "# Q3. What are pre-defined keywords in Python?\n",
        "\"\"\" Ans: It is also called as a reserved words which is already define in python language. These keywords cannot used as a identifiers such as variables names, functions names because its reservered as a python interpreters. ['False', 'None', 'True', 'and', 'as', 'assert', 'async', 'await', 'break', 'class', 'continue', 'def', 'del', 'elif', 'else', 'except', 'finally', 'for', 'from', 'global', 'if', 'import', 'in', 'is', 'lambda', 'nonlocal', 'not', 'or', 'pass', 'raise', 'return', 'try', 'while', 'with', 'yield'] \"\"\"\n",
        "\n",
        "# Q4.Can keywords be used as variable names?\n",
        "\"\"\" Ans: Keywords cannot used as a variables name because keywords already reserved in Python interpreter.\"\"\"\n",
        "\n",
        "# Q5.What is mutability in Python?\n",
        "\"\"\"Ans: Mutability means their values can changes and modified.\n",
        "such as Lists,Dictionaries,sets \"\"\"\n",
        "\n",
        "# Q6 Why are lists mutable, but tuples are immutable?\n",
        "\"\"\"Ans Because when list is created in Python we can change and modified because when we assign the list memory is designed to be expandable for removing,addition in memory block.\n",
        "But in the tuples has fixed memory block that why we cannot changes and modified in the tuples . \"\"\"\n",
        "\n",
        "# Q7.What is the difference between “==” and “is” operators in Python?\n",
        "\"\"\" Ans. This is == equality operator. It is compares the values of two objects. It is return \"true\" value of two operands are equal otherwise false.\n",
        "\"Is\" It is a identify operator Checks if two variables refer to the same object in memory.\"\"\"\n",
        "\n",
        "# Q8.What are logical operators in Python?\n",
        "\"\"\" Ans : Logical operators are \"and,or,not operators.\n",
        "1.\"and\" operator\n",
        " True and True results  True.\n",
        "True and False results  False.\n",
        "False and True results False.\n",
        "False and False results False.\n",
        "2. or Operator\n",
        "True or True results  True.\n",
        "True or False results  True.\n",
        "False or True results  True.\n",
        "False or False results  False.\n",
        "3. not Operator\n",
        "not True results  False.\n",
        "not False results True.\n",
        "\n",
        "# Q9.What is type casting in Python?\n",
        "\"\" Ans: Type casting is also known as type conversion, is the process of changing data types of a value from one type to another type. For example interger to string \"\"\"\n",
        "\n",
        "# Q10.What is the difference between implicit and explicit type casting?\n",
        "\"\"\" Ans. Implicit type casting : Python automatically convert some data types without using code that is called implicit type conversioon.\n",
        "Explicit type conversion : In this type casting, We use built in function to convert value of data types.\n",
        "int()\n",
        "float()\n",
        "str()\n",
        "bool()\"\"\"\n",
        "\n",
        "# Q11.0 What is the purpose of conditional statements in Python?\n",
        "\"\"\"Ans : The purpose of conditional statements are Decision making,Selection execution, Control flow.\n",
        "if, elif,else, these are the conditional statements.\"\"\"\n",
        "\n",
        "# Q12 How does the elif statement work?\n",
        "\"\"\" Ans: elif is used for check the multiple condition sequentiallly.\n",
        "\n",
        "score = 85\n",
        "\n",
        "if score >= 90:\n",
        "    grade = \"A\"\n",
        "elif score >= 80:\n",
        "    grade = \"B\"\n",
        "elif score >= 70:\n",
        "    grade = \"C\"\n",
        "else:\n",
        "    grade = \"D\"\n",
        "\n",
        "print(\"Your grade is:\", grade)  # Output: Your grade is: B\"\"\"\n",
        "\n",
        "# Q13.What is the difference between for and while loops?\n",
        "\"\"\" Ans: for and while loop both loop are used for iteration they differ how to control the iteration process.\n",
        "for loop : for loop iterate all sequence (list,tuples,string)\n",
        "while loop : Repeats the block code until the conditon is true.\"\"\"\n",
        "\n",
        "\n",
        "# Q14.Describe a scenario where a while loop is more suitable than a for loop?\n",
        "\"\"\" Ans: While loops: While loops are condition-based: They continue to execute as long as a specified condition remains True. This flexibility makes them ideal when the number of iterations is unknown or depends on user interaction.\n",
        "For loops: For loops are typically used for definite iterations: They are most suitable when you know the exact number of times you need to repeat a block of code or when you're iterating through a sequence with a fixed length.\"\"\""
      ]
    },
    {
      "cell_type": "code",
      "source": [
        "# Q1.Write a Python program to print \"Hello, World!?\n",
        "#Ans\n",
        "print(\"hello world\")"
      ],
      "metadata": {
        "id": "d90r0ss_8nkz"
      },
      "execution_count": null,
      "outputs": []
    },
    {
      "cell_type": "code",
      "source": [
        "# Q2.Write a Python program that displays your name and age?\n",
        "#Ans\n",
        "name = \"Shubham Verma\"\n",
        "age = 27\n",
        "print(f\"My name is {name} and age {age}.\")"
      ],
      "metadata": {
        "id": "q5PE3sVX86DJ"
      },
      "execution_count": null,
      "outputs": []
    },
    {
      "cell_type": "code",
      "source": [
        "# Q3.Write code to print all the pre-defined keywords in Python using the keyword library?\n",
        "#Ans:\n",
        "import keyword\n",
        "print(keyword.kwlist)"
      ],
      "metadata": {
        "id": "TlGoD3yh98E6"
      },
      "execution_count": null,
      "outputs": []
    },
    {
      "cell_type": "code",
      "source": [
        "# Q4.0 Write a program that checks if a given word is a Python keyword?\n",
        "#Ans:\n",
        "import keyword\n",
        "def is_keyword(word):\n",
        "  return keyword.iskeyword(word)\n",
        "word = input(\"Enter a word: \")\n",
        "if is_keyword(word):\n",
        "  print(f\"{word} is a Python keyword.\")\n",
        "else:\n",
        "  print(f\"{word} is not a Python keyword.\")"
      ],
      "metadata": {
        "id": "I2qMS9wJ-YA7"
      },
      "execution_count": null,
      "outputs": []
    },
    {
      "cell_type": "code",
      "source": [
        "# Q5.Create a list and tuple in Python, and demonstrate how attempting to change an element works differently for each?\n",
        "# Ans:\n",
        "l = [1,22,3,\"Apple\",\"Mango\",2.23,\"college\",True]\n",
        "t = (1,22,3,\"Apple\",\"Mango\",2.23,\"college\",True)\n",
        "l[0] = 23\n",
        "# t[0] = 23 # tuple is immutable.\n",
        "print(f\"{l} \\n {t[3]}\")"
      ],
      "metadata": {
        "id": "SHfho1P7MEM7"
      },
      "execution_count": null,
      "outputs": []
    },
    {
      "cell_type": "code",
      "source": [
        "# Q8.Write a program to demonstrate the use of logical operators?\n",
        "# Ans:\n",
        "a = True\n",
        "b = False\n",
        "# And operator\n",
        "print(a & b)\n",
        "print(a & True)\n",
        "print(b & False)\n",
        "# Or operator\n",
        "print(a|b)\n",
        "print(a|True)\n",
        "print(False|a)\n",
        "print(False|b)\n",
        "# Not Operator\n",
        "print(not a)\n",
        "print(not b)\n"
      ],
      "metadata": {
        "id": "ajygwOGxRxEo"
      },
      "execution_count": null,
      "outputs": []
    },
    {
      "cell_type": "code",
      "source": [
        "###  Q9.Write a Python program to convert user input from string to integer, float, and boolean types? ###\n",
        "# Ans:\n",
        "\n",
        "user_input = input(\"Enter a value: \")\n",
        "\n",
        "# convert string to int\n",
        "try:\n",
        "  interger_value = int(user_input)\n",
        "  print(\"interger_value\",interger_value)\n",
        "\n",
        "except ValueError:\n",
        "    print(\"Invalid input. Please enter a valid interger value.\")\n",
        "\n",
        "# convert string to float.\n",
        "try:\n",
        "  float_value = float(user_input)\n",
        "  print(\"float_value\",float_value)\n",
        "\n",
        "except ValueError:\n",
        "    print(\"Invalid input. Please enter a valid float value.\")\n",
        "\n",
        "# convert string to boolean value\n",
        "\n",
        "\n",
        "if user_input.lower() in [\"true\",\"1\"]:\n",
        "  boolean_value = True\n",
        "  print(\"boolean_value\",boolean_value)\n",
        "elif user_input.lower() in [\"false\",\"0\"]:\n",
        "  boolean_value = False\n",
        "  print(\"boolean_value\",boolean_value)\n",
        "else:\n",
        "  print(\"cannot convert to boolean.\")"
      ],
      "metadata": {
        "id": "C9eBe_2MWT9f"
      },
      "execution_count": null,
      "outputs": []
    },
    {
      "cell_type": "code",
      "source": [
        "# Q10.0 Write code to demonstrate type casting with list elements?\n",
        "#Ans:\n",
        "list = [\"1\", 1.1,\"2.5\",\"False\",True] # convert string to int\n",
        "int_value = int(list[1])\n",
        "print(\"int_value:\",int_value,type(int_value))\n",
        "float_value = float(list[0]) # convert int to float and string to float\n",
        "float_value2 = float(list[2])\n",
        "print(\"float_value:\",float_value,type(float_value))\n",
        "print(\"float_value2:\",float_value2,type(float_value2))\n",
        "bool_value = bool(list[4]) # convert string to boolean\n",
        "print(\"bool_value:\",bool_value,type(bool_value))"
      ],
      "metadata": {
        "id": "j3acp0lJjPQo"
      },
      "execution_count": null,
      "outputs": []
    },
    {
      "cell_type": "code",
      "source": [
        "# Q11.Write a program that checks if a number is positive, negative, or zero?\n",
        "# Ans:\n",
        "num = float(input(\"enter a number: \"))\n",
        "if num>0:\n",
        "  print(\"positive number\")\n",
        "elif num<0:\n",
        "    print(\"negative number\")\n",
        "else:\n",
        "     print(\"zero\")\n",
        "\n"
      ],
      "metadata": {
        "id": "Znu0CiDRqyV2"
      },
      "execution_count": null,
      "outputs": []
    },
    {
      "cell_type": "code",
      "source": [
        "# Q12. Write a for loop to print numbers from 1 to 10?\n",
        "#Ans:\n",
        "for i in range(1,11):\n",
        "    print(i)"
      ],
      "metadata": {
        "id": "47gFyH98r0-j"
      },
      "execution_count": null,
      "outputs": []
    },
    {
      "cell_type": "code",
      "source": [
        "###Q13.Write a Python program to find the sum of all even numbers between 1 and 50? ###\n",
        "#Ans:\n",
        "sum = 0\n",
        "\n",
        "for number in range(1, 51):\n",
        "    if number % 2 == 0:  # Check if the number is even\n",
        "        sum = sum+number\n",
        "\n",
        "print(\"The sum of all even numbers between 1 and 50 is:\", sum)\n"
      ],
      "metadata": {
        "id": "2Xat-ZdCs3ij"
      },
      "execution_count": null,
      "outputs": []
    },
    {
      "cell_type": "code",
      "source": [
        "# Q14.Write a program to reverse a string using a while loop?\n",
        "# Ans:\n",
        "string = \"reverse\"\n",
        "while string:\n",
        "    print(string[-1],end= \" \")\n",
        "    string = string[:-1]\n"
      ],
      "metadata": {
        "id": "elkMzLhcvjey"
      },
      "execution_count": null,
      "outputs": []
    },
    {
      "cell_type": "code",
      "source": [
        "# Q15.Write a Python program to calculate the factorial of a number provided by the user using a while loop.\n",
        "# Ans:\n",
        "num = input(\"Enter num: \")\n",
        "factorial = 1\n",
        "value = 1\n",
        "while value<=int(num):\n",
        "  factorial *= value\n",
        "  value += 1\n",
        "print(f\"factorial of this num is {factorial}\")"
      ],
      "metadata": {
        "id": "WG4TWsngzQIQ"
      },
      "execution_count": null,
      "outputs": []
    }
  ]
}